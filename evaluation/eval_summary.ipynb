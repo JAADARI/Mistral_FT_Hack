{
 "cells": [
  {
   "cell_type": "markdown",
   "metadata": {},
   "source": [
    "**Set up**"
   ]
  },
  {
   "cell_type": "code",
   "execution_count": null,
   "metadata": {},
   "outputs": [],
   "source": [
    "!pip install accelerate\n",
    "!pip install rouge\n",
    "!pip install torch\n",
    "!pip install mistralai\n",
    "!pip install transformers\n"
   ]
  },
  {
   "cell_type": "code",
   "execution_count": null,
   "metadata": {},
   "outputs": [],
   "source": [
    "from transformers import EncoderDecoderModel, BertTokenizer\n",
    "from rouge import Rouge\n",
    "import pandas as pd \n",
    "from tqdm import tqdm \n",
    "import torch\n",
    "import os \n",
    "from mistralai.client import MistralClient\n",
    "from mistralai.models.chat_completion import ChatMessage"
   ]
  },
  {
   "cell_type": "markdown",
   "metadata": {},
   "source": [
    "**Load data**"
   ]
  },
  {
   "cell_type": "code",
   "execution_count": null,
   "metadata": {},
   "outputs": [],
   "source": [
    "PATH_TO_EVAL_DATA_CONTAINING_OCR_AND_ASR_OUTPUT = \"\""
   ]
  },
  {
   "cell_type": "code",
   "execution_count": null,
   "metadata": {},
   "outputs": [],
   "source": [
    "eval_set = pd.read_csv(PATH_TO_EVAL_DATA_CONTAINING_OCR_AND_ASR_OUTPUT)"
   ]
  },
  {
   "cell_type": "markdown",
   "metadata": {},
   "source": [
    "Generate summary using the reference model trained on the Goud dataset "
   ]
  },
  {
   "cell_type": "code",
   "execution_count": null,
   "metadata": {},
   "outputs": [],
   "source": [
    "device = \"cuda:0\" if torch.cuda.is_available() else \"cpu\"\n",
    "tokenizer = BertTokenizer.from_pretrained(\"Goud/DarijaBERT-summarization-goud\", max_length=1000)\n",
    "model = EncoderDecoderModel.from_pretrained(\"Goud/DarijaBERT-summarization-goud\").to(device)"
   ]
  },
  {
   "cell_type": "markdown",
   "metadata": {},
   "source": [
    "Calculate Rouge score"
   ]
  },
  {
   "cell_type": "code",
   "execution_count": null,
   "metadata": {},
   "outputs": [],
   "source": [
    "rouge_scorer = Rouge()\n",
    "darija_score = rouge_scorer.get_scores(\n",
    "    hyps=eval_set[\"Transformed_text\"],\n",
    "    refs=eval_set[\"summary\"],\n",
    ")\n",
    "darija_score"
   ]
  },
  {
   "cell_type": "code",
   "execution_count": null,
   "metadata": {},
   "outputs": [],
   "source": [
    "def calculate_rouge_for_wholde_df(rouge_scores):\n",
    "    sum_rouge1_r = sum_rouge1_p = sum_rouge1_f = 0\n",
    "    sum_rouge2_r = sum_rouge2_p = sum_rouge2_f = 0\n",
    "    sum_rougel_r = sum_rougel_p = sum_rougel_f = 0\n",
    "    num_records = len(rouge_scores)\n",
    "    for item in rouge_scores:\n",
    "        sum_rouge1_r += item['rouge-1']['r']\n",
    "        sum_rouge1_p += item['rouge-1']['p']\n",
    "        sum_rouge1_f += item['rouge-1']['f']\n",
    "        \n",
    "        sum_rouge2_r += item['rouge-2']['r']\n",
    "        sum_rouge2_p += item['rouge-2']['p']\n",
    "        sum_rouge2_f += item['rouge-2']['f']\n",
    "        \n",
    "        sum_rougel_r += item['rouge-l']['r']\n",
    "        sum_rougel_p += item['rouge-l']['p']\n",
    "        sum_rougel_f += item['rouge-l']['f']\n",
    "\n",
    "    mean_rouge1_r = sum_rouge1_r / num_records\n",
    "    mean_rouge1_p = sum_rouge1_p / num_records\n",
    "    mean_rouge1_f = sum_rouge1_f / num_records\n",
    "\n",
    "    mean_rouge2_r = sum_rouge2_r / num_records\n",
    "    mean_rouge2_p = sum_rouge2_p / num_records\n",
    "    mean_rouge2_f = sum_rouge2_f / num_records\n",
    "\n",
    "    mean_rougel_r = sum_rougel_r / num_records\n",
    "    mean_rougel_p = sum_rougel_p / num_records\n",
    "    mean_rougel_f = sum_rougel_f / num_records\n",
    "\n",
    "    final_rouge = {\n",
    "        'rouge-1': {'r': mean_rouge1_r, 'p': mean_rouge1_p, 'f': mean_rouge1_f},\n",
    "        'rouge-2': {'r': mean_rouge2_r, 'p': mean_rouge2_p, 'f': mean_rouge2_f},\n",
    "        'rouge-l': {'r': mean_rougel_r, 'p': mean_rougel_p, 'f': mean_rougel_f}\n",
    "    }\n",
    "    return final_rouge"
   ]
  },
  {
   "cell_type": "code",
   "execution_count": null,
   "metadata": {},
   "outputs": [],
   "source": [
    "darija_bert_rouge = calculate_rouge_for_wholde_df(darija_score)"
   ]
  },
  {
   "cell_type": "markdown",
   "metadata": {},
   "source": [
    "Generate summary using the the fine-tuned model "
   ]
  },
  {
   "cell_type": "code",
   "execution_count": null,
   "metadata": {},
   "outputs": [],
   "source": [
    "api_key = os.environ.get(\"MISTRAL_API_KEY\")\n",
    "client = MistralClient(api_key=api_key)\n",
    "retrieved_jobs = client.jobs.retrieve(\"job_id\")"
   ]
  },
  {
   "cell_type": "code",
   "execution_count": null,
   "metadata": {},
   "outputs": [],
   "source": [
    "def summarize_text(text):\n",
    "    prompt = (\n",
    "\n",
    "        \"مهمتك هي تلخيص نص مكتوب باللهجة المغاربية. \"\n",
    "        \"لا يجوز لك استخدام المعلومات إلا من النص المقدم لك، \"\n",
    "        \"ولا يجوز لك استخدام أي معلومات خارجية. \"\n",
    "        \"قم بتلخيص النص في 30 كلمة على الأكثر باللغة المغاربية.\"\n",
    "    )\n",
    "    messages = [\n",
    "        ChatMessage(role=\"assistant\", content=prompt),\n",
    "        ChatMessage(role=\"user\", content=text),\n",
    "    ]\n",
    "    chat_response = client.chat(\n",
    "        model=model,\n",
    "        messages=messages,\n",
    "    )\n",
    "    return chat_response.choices[0].message.content\n"
   ]
  },
  {
   "cell_type": "code",
   "execution_count": null,
   "metadata": {},
   "outputs": [],
   "source": [
    "eval_set['fine_tuned_summary'] = eval_set['Transformed_text'].apply(summarize_text)"
   ]
  },
  {
   "cell_type": "code",
   "execution_count": null,
   "metadata": {},
   "outputs": [],
   "source": [
    "fine_tuned_score = rouge_scorer.get_scores(\n",
    "    hyps=eval_set[\"fine_tuned_summary\"],\n",
    "    refs=eval_set[\"summary\"],\n",
    ")\n",
    "fine_tuned_rouge = calculate_rouge_for_wholde_df(fine_tuned_score)"
   ]
  }
 ],
 "metadata": {
  "language_info": {
   "name": "python"
  }
 },
 "nbformat": 4,
 "nbformat_minor": 2
}
