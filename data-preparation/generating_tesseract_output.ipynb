{
 "cells": [
  {
   "cell_type": "markdown",
   "metadata": {},
   "source": [
    "**Set up**"
   ]
  },
  {
   "cell_type": "code",
   "execution_count": null,
   "metadata": {},
   "outputs": [],
   "source": [
    "!apt-get install tesseract-ocr-ara\n",
    "!pip install pytesseract\n",
    "!pip install pillow"
   ]
  },
  {
   "cell_type": "code",
   "execution_count": null,
   "metadata": {},
   "outputs": [],
   "source": [
    "import pytesseract\n",
    "from PIL import Image\n",
    "import requests\n",
    "from io import BytesIO\n",
    "from PIL import Image, ImageDraw, ImageFont,ImageFilter\n",
    "import os\n",
    "import textwrap\n",
    "import pandas as pd"
   ]
  },
  {
   "cell_type": "markdown",
   "metadata": {},
   "source": [
    "**Test ocr for arabic text**"
   ]
  },
  {
   "cell_type": "code",
   "execution_count": null,
   "metadata": {},
   "outputs": [],
   "source": [
    "image_url = 'https://andreasmhallberg.github.io/images/2017-03-03/utopia.png'\n",
    "response = requests.get(image_url)\n",
    "img = Image.open(BytesIO(response.content))\n",
    "text = pytesseract.image_to_string(img, lang='ara')\n",
    "print(text)"
   ]
  },
  {
   "cell_type": "markdown",
   "metadata": {},
   "source": [
    "**Load dataset**"
   ]
  },
  {
   "cell_type": "code",
   "execution_count": null,
   "metadata": {},
   "outputs": [],
   "source": [
    "morrocan_summarization_dataset = pd.read_csv(\"./darija19k.csv\")"
   ]
  },
  {
   "cell_type": "markdown",
   "metadata": {},
   "source": [
    "**Generate images from textual input and run OCR on created image**"
   ]
  },
  {
   "cell_type": "code",
   "execution_count": null,
   "metadata": {},
   "outputs": [],
   "source": [
    "def generate_image_with_text(text,save_dir,image_index ,image_width = 800, max_noise_level=100, blur_radius=1.6):\n",
    "    background_color = (255, 255, 255)\n",
    "    img = Image.new('RGB', (image_width, 1), background_color)\n",
    "    draw = ImageDraw.Draw(img)\n",
    "    font = ImageFont.truetype('./fonts/Noto_Naskh_Arabic/NotoNaskhArabic-VariableFont_wght.ttf', 15)\n",
    "    text_color = (0, 0, 0) \n",
    "    wrapped_text = textwrap.fill(text, width=70)\n",
    "    lines = wrapped_text.split('\\n')\n",
    "    total_height = 70 * len(lines)\n",
    "    img = img.resize((image_width, total_height))\n",
    "    draw = ImageDraw.Draw(img)\n",
    "    y = 0\n",
    "    for line in lines:\n",
    "        draw.text((0, y), line, font=font, fill=text_color)\n",
    "        y += 60\n",
    "    img_blurred = img.filter(ImageFilter.GaussianBlur(radius=blur_radius))\n",
    "    img_blurred.save(f\"{save_dir}/{image_index}.png\")\n",
    "    ocr_text = pytesseract.image_to_string(img_blurred, lang='ara')\n",
    "    return ocr_text\n"
   ]
  },
  {
   "cell_type": "markdown",
   "metadata": {},
   "source": [
    "**Tesseract output postprocesing**"
   ]
  },
  {
   "cell_type": "code",
   "execution_count": null,
   "metadata": {},
   "outputs": [],
   "source": [
    "def remove_special_characters(text: str) -> str:\n",
    "    \"\"\"This functions removes the special character \\n and any repetitions of it such as \\n\\n as well as remove\n",
    "    characters such as \\n\\x0c\"\"\"\n",
    "    return text.replace('\\n', \"\").replace(\"\\x0c\", \"\")\n"
   ]
  },
  {
   "cell_type": "markdown",
   "metadata": {},
   "source": [
    "**Data Generation**"
   ]
  },
  {
   "cell_type": "code",
   "execution_count": null,
   "metadata": {},
   "outputs": [],
   "source": [
    "directory = \"./generated_images\" \n",
    "if not os.path.exists(directory):\n",
    "    os.makedirs(directory)"
   ]
  },
  {
   "cell_type": "code",
   "execution_count": null,
   "metadata": {},
   "outputs": [],
   "source": [
    "def generation_script(images_save_dir, summary_dataframe):\n",
    "    new_df = pd.DataFrame({\n",
    "        'original_text': summary_dataframe['Text'],\n",
    "        'tesseract_output': summary_dataframe['Text'].apply(lambda x: remove_special_characters(generate_image_with_text(x, images_save_dir, summary_dataframe.index[summary_dataframe['Text'] == x][0]))),\n",
    "        'summary': summary_dataframe['Summary'],\n",
    "        'index': summary_dataframe.index\n",
    "    })\n",
    "    return new_df"
   ]
  },
  {
   "cell_type": "code",
   "execution_count": null,
   "metadata": {},
   "outputs": [],
   "source": [
    "generated_data_with_tesseract_ouput = generation_script(directory, morrocan_summarization_dataset)"
   ]
  }
 ],
 "metadata": {
  "language_info": {
   "name": "python"
  }
 },
 "nbformat": 4,
 "nbformat_minor": 2
}
